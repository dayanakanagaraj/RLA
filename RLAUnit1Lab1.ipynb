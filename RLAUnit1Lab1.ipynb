{
 "cells": [
  {
   "cell_type": "code",
   "execution_count": 1,
   "id": "e78736d3-f05a-4e7d-b5a1-69bcb6dbda58",
   "metadata": {},
   "outputs": [],
   "source": [
    "import numpy as np\n",
    "import random\n",
    "import pickle  # For saving value function\n"
   ]
  },
  {
   "cell_type": "code",
   "execution_count": 3,
   "id": "d72a6713-a21f-4f64-9e13-56c46bb3a995",
   "metadata": {},
   "outputs": [],
   "source": [
    "\n",
    "# Tic-Tac-Toe environment\n",
    "class TicTacToe:\n",
    "    def __init__(self):\n",
    "        self.board = np.zeros(9, dtype=int)  # 3x3 board as a flat array\n",
    "        self.current_player = 1  # 1 for 'X', -1 for 'O'\n",
    "    \n",
    "    def reset(self):\n",
    "        self.board[:] = 0\n",
    "        self.current_player = 1\n",
    "        return tuple(self.board)  # Return state\n",
    "\n",
    "    def available_actions(self):\n",
    "        return [i for i in range(9) if self.board[i] == 0]\n",
    "\n",
    "    def step(self, action):\n",
    "        \"\"\" Apply action and switch player \"\"\"\n",
    "        if self.board[action] != 0:\n",
    "            raise ValueError(\"Invalid Move\")\n",
    "        \n",
    "        self.board[action] = self.current_player\n",
    "        reward, done = self.check_winner()\n",
    "        self.current_player *= -1  # Switch player\n",
    "        return tuple(self.board), reward, done  # New state, reward, game over?\n",
    "\n",
    "    def check_winner(self):\n",
    "        \"\"\" Check if game is won, lost, or draw \"\"\"\n",
    "        winning_combos = [(0,1,2), (3,4,5), (6,7,8), (0,3,6), (1,4,7), (2,5,8), (0,4,8), (2,4,6)]\n",
    "        \n",
    "        for (i, j, k) in winning_combos:\n",
    "            if self.board[i] == self.board[j] == self.board[k] and self.board[i] != 0:\n",
    "                return (1 if self.board[i] == 1 else -1), True  # +1 for X, -1 for O\n",
    "        \n",
    "        if 0 not in self.board:  # Draw condition\n",
    "            return 0, True\n",
    "\n",
    "        return 0, False  # No winner, continue game\n",
    "\n"
   ]
  },
  {
   "cell_type": "code",
   "execution_count": 5,
   "id": "95cf0b65-4fa9-4eed-82ca-7bfa7776fe73",
   "metadata": {},
   "outputs": [],
   "source": [
    "# Value Function Approximation\n",
    "class ValueFunctionAgent:\n",
    "    def __init__(self, alpha=0.1, epsilon=0.1):\n",
    "        self.value_table = {}  # State-value estimates\n",
    "        self.alpha = alpha  # Learning rate\n",
    "        self.epsilon = epsilon  # Exploration rate\n",
    "\n",
    "    def get_value(self, state):\n",
    "        \"\"\" Retrieve value of a state, default to 0 \"\"\"\n",
    "        return self.value_table.get(state, 0.5)  # Initialize unknown states at 0.5\n",
    "\n",
    "    def choose_action(self, state, available_actions):\n",
    "        \"\"\" Epsilon-greedy action selection \"\"\"\n",
    "        if random.uniform(0, 1) < self.epsilon:\n",
    "            return random.choice(available_actions)  # Explore\n",
    "        else:\n",
    "            # Exploit: Select action that leads to the best estimated value\n",
    "            values = [self.get_value(self.get_next_state(state, a)) for a in available_actions]\n",
    "            return available_actions[np.argmax(values)]\n",
    "\n",
    "    def get_next_state(self, state, action):\n",
    "        \"\"\" Simulate next state \"\"\"\n",
    "        new_state = list(state)\n",
    "        new_state[action] = 1  # Assume current player is AI\n",
    "        return tuple(new_state)\n",
    "\n",
    "    def update_value(self, state, reward, next_state):\n",
    "        \"\"\" Update value function using TD-learning \"\"\"\n",
    "        self.value_table[state] = self.get_value(state) + self.alpha * (reward + self.get_value(next_state) - self.get_value(state))\n",
    "\n",
    "    def save_value_table(self, filename=\"value_table.pkl\"):\n",
    "        with open(filename, \"wb\") as f:\n",
    "            pickle.dump(self.value_table, f)\n",
    "\n",
    "    def load_value_table(self, filename=\"value_table.pkl\"):\n",
    "        try:\n",
    "            with open(filename, \"rb\") as f:\n",
    "                self.value_table = pickle.load(f)\n",
    "        except FileNotFoundError:\n",
    "            print(\"No saved value table found, starting fresh.\")\n",
    "\n"
   ]
  },
  {
   "cell_type": "code",
   "execution_count": 7,
   "id": "5c985f1a-075d-4eec-962a-6fa9dd39562b",
   "metadata": {},
   "outputs": [],
   "source": [
    "# Training the Value Function Agent\n",
    "def train_agent(episodes=50000):\n",
    "    env = TicTacToe()\n",
    "    agent = ValueFunctionAgent()\n",
    "    \n",
    "    for episode in range(episodes):\n",
    "        state = env.reset()\n",
    "        done = False\n",
    "        trajectory = []\n",
    "\n",
    "        while not done:\n",
    "            available_actions = env.available_actions()\n",
    "            action = agent.choose_action(state, available_actions)\n",
    "            next_state, reward, done = env.step(action)\n",
    "\n",
    "            # Store trajectory for Monte Carlo updates\n",
    "            trajectory.append((state, action, reward))\n",
    "            state = next_state\n",
    "\n",
    "        # Monte Carlo update of Value Function\n",
    "        for state, action, reward in reversed(trajectory):\n",
    "            agent.update_value(state, reward, state)\n",
    "\n",
    "    print(\"Training complete!\")\n",
    "    agent.save_value_table()\n",
    "    return agent\n"
   ]
  },
  {
   "cell_type": "code",
   "execution_count": 9,
   "id": "38181d18-2ded-4817-999c-b1b33dc78038",
   "metadata": {},
   "outputs": [],
   "source": [
    "\n",
    "# 10-Armed Testbed for Evaluating Agents\n",
    "def test_10_agents():\n",
    "    \"\"\" Simulates 10 agents with different exploration strategies \"\"\"\n",
    "    env = TicTacToe()\n",
    "    agents = [ValueFunctionAgent(epsilon=i * 0.1) for i in range(10)]\n",
    "\n",
    "    win_rates = np.zeros(10)\n",
    "\n",
    "    for i, agent in enumerate(agents):\n",
    "        wins = 0\n",
    "        for _ in range(1000):  # Play 1000 games per agent\n",
    "            state = env.reset()\n",
    "            done = False\n",
    "\n",
    "            while not done:\n",
    "                available_actions = env.available_actions()\n",
    "                action = agent.choose_action(state, available_actions)\n",
    "                state, reward, done = env.step(action)\n",
    "\n",
    "            if reward == 1:\n",
    "                wins += 1\n",
    "\n",
    "        win_rates[i] = wins / 1000  # Store win percentage\n",
    "\n",
    "    print(\"Exploration Rate vs. Win Rate:\")\n",
    "    for i, win_rate in enumerate(win_rates):\n",
    "        print(f\"Epsilon = {i * 0.1}: Win Rate = {win_rate:.3f}\")\n",
    "\n"
   ]
  },
  {
   "cell_type": "code",
   "execution_count": 11,
   "id": "45caed45-6add-49f5-a393-e8b86ee7efa3",
   "metadata": {},
   "outputs": [],
   "source": [
    "# Play against trained AI\n",
    "def play_against_ai():\n",
    "    env = TicTacToe()\n",
    "    agent = ValueFunctionAgent()\n",
    "    agent.load_value_table()\n",
    "    \n",
    "    state = env.reset()\n",
    "    done = False\n",
    "    \n",
    "    print(\"\\nTic-Tac-Toe Game!\")\n",
    "    while not done:\n",
    "        if env.current_player == 1:  # AI's turn\n",
    "            action = agent.choose_action(state, env.available_actions())\n",
    "            print(f\"AI chooses: {action}\")\n",
    "        else:  # Human's turn\n",
    "            print(f\"\\nCurrent Board:\\n{np.array(env.board).reshape(3,3)}\")\n",
    "            action = int(input(\"Enter position (0-8): \"))\n",
    "            while action not in env.available_actions():\n",
    "                action = int(input(\"Invalid move! Enter position (0-8): \"))\n",
    "        \n",
    "        state, reward, done = env.step(action)\n",
    "\n",
    "    print(\"\\nFinal Board:\\n\", np.array(env.board).reshape(3,3))\n",
    "    if reward == 1:\n",
    "        print(\"AI Wins!\")\n",
    "    elif reward == -1:\n",
    "        print(\"You Win!\")\n",
    "    else:\n",
    "        print(\"It's a Draw!\")\n",
    "\n"
   ]
  },
  {
   "cell_type": "code",
   "execution_count": 13,
   "id": "f1d46bcc-9eab-4154-8916-a57199b75197",
   "metadata": {},
   "outputs": [
    {
     "name": "stdout",
     "output_type": "stream",
     "text": [
      "Training complete!\n",
      "Exploration Rate vs. Win Rate:\n",
      "Epsilon = 0.0: Win Rate = 1.000\n",
      "Epsilon = 0.1: Win Rate = 0.799\n",
      "Epsilon = 0.2: Win Rate = 0.704\n",
      "Epsilon = 0.30000000000000004: Win Rate = 0.634\n",
      "Epsilon = 0.4: Win Rate = 0.624\n",
      "Epsilon = 0.5: Win Rate = 0.580\n",
      "Epsilon = 0.6000000000000001: Win Rate = 0.586\n",
      "Epsilon = 0.7000000000000001: Win Rate = 0.579\n",
      "Epsilon = 0.8: Win Rate = 0.600\n",
      "Epsilon = 0.9: Win Rate = 0.602\n",
      "\n",
      "Tic-Tac-Toe Game!\n",
      "AI chooses: 0\n",
      "\n",
      "Current Board:\n",
      "[[1 0 0]\n",
      " [0 0 0]\n",
      " [0 0 0]]\n"
     ]
    },
    {
     "name": "stdin",
     "output_type": "stream",
     "text": [
      "Enter position (0-8):  3\n"
     ]
    },
    {
     "name": "stdout",
     "output_type": "stream",
     "text": [
      "AI chooses: 1\n",
      "\n",
      "Current Board:\n",
      "[[ 1  1  0]\n",
      " [-1  0  0]\n",
      " [ 0  0  0]]\n"
     ]
    },
    {
     "name": "stdin",
     "output_type": "stream",
     "text": [
      "Enter position (0-8):  2\n"
     ]
    },
    {
     "name": "stdout",
     "output_type": "stream",
     "text": [
      "AI chooses: 4\n",
      "\n",
      "Current Board:\n",
      "[[ 1  1 -1]\n",
      " [-1  1  0]\n",
      " [ 0  0  0]]\n"
     ]
    },
    {
     "name": "stdin",
     "output_type": "stream",
     "text": [
      "Enter position (0-8):  8\n"
     ]
    },
    {
     "name": "stdout",
     "output_type": "stream",
     "text": [
      "AI chooses: 5\n",
      "\n",
      "Current Board:\n",
      "[[ 1  1 -1]\n",
      " [-1  1  1]\n",
      " [ 0  0 -1]]\n"
     ]
    },
    {
     "name": "stdin",
     "output_type": "stream",
     "text": [
      "Enter position (0-8):  7\n"
     ]
    },
    {
     "name": "stdout",
     "output_type": "stream",
     "text": [
      "AI chooses: 6\n",
      "\n",
      "Final Board:\n",
      " [[ 1  1 -1]\n",
      " [-1  1  1]\n",
      " [ 1 -1 -1]]\n",
      "It's a Draw!\n"
     ]
    }
   ],
   "source": [
    "# Train and test agents\n",
    "if __name__ == \"__main__\":\n",
    "    train_agent(episodes=50000)  # Train AI with Value Function\n",
    "    test_10_agents()  # Test different exploration strategies\n",
    "    play_against_ai()  # Play against trained AI\n"
   ]
  },
  {
   "cell_type": "code",
   "execution_count": null,
   "id": "153b98bd-f566-4a60-9457-30c39410cbfd",
   "metadata": {},
   "outputs": [],
   "source": []
  }
 ],
 "metadata": {
  "kernelspec": {
   "display_name": "Python 3 (ipykernel)",
   "language": "python",
   "name": "python3"
  },
  "language_info": {
   "codemirror_mode": {
    "name": "ipython",
    "version": 3
   },
   "file_extension": ".py",
   "mimetype": "text/x-python",
   "name": "python",
   "nbconvert_exporter": "python",
   "pygments_lexer": "ipython3",
   "version": "3.12.4"
  }
 },
 "nbformat": 4,
 "nbformat_minor": 5
}
