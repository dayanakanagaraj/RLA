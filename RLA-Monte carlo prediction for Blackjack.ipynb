{
 "cells": [
  {
   "cell_type": "code",
   "execution_count": 1,
   "id": "dafd15e2-694c-42bf-98ed-cff2b89b415e",
   "metadata": {},
   "outputs": [
    {
     "name": "stderr",
     "output_type": "stream",
     "text": [
      "E:\\Anaconda\\Lib\\site-packages\\gym\\utils\\passive_env_checker.py:233: DeprecationWarning: `np.bool8` is a deprecated alias for `np.bool_`.  (Deprecated NumPy 1.24)\n",
      "  if not isinstance(terminated, (bool, np.bool8)):\n"
     ]
    },
    {
     "name": "stdout",
     "output_type": "stream",
     "text": [
      "Value of state (12, 2, False): -0.56\n",
      "Value of state (13, 2, False): -0.56\n",
      "Value of state (14, 2, False): -0.59\n",
      "Value of state (15, 2, False): -0.61\n",
      "Value of state (16, 2, False): -0.68\n",
      "Value of state (17, 2, False): -0.64\n",
      "Value of state (18, 2, False): -0.70\n",
      "Value of state (19, 2, False): -0.73\n",
      "Value of state (20, 2, False): 0.66\n",
      "Value of state (21, 2, False): 0.88\n"
     ]
    }
   ],
   "source": [
    "import numpy as np\n",
    "import gym\n",
    "\n",
    "def generate_episode(env, policy):\n",
    "    episode = []\n",
    "    state = env.reset()[0]  # Reset environment and get initial state\n",
    "    while True:\n",
    "        action = policy(state)\n",
    "        next_state, reward, done, _, _ = env.step(action)\n",
    "        episode.append((state, action, reward))\n",
    "        if done:\n",
    "            break\n",
    "        state = next_state\n",
    "    return episode\n",
    "\n",
    "def monte_carlo_prediction(env, policy, num_episodes, gamma=1.0):\n",
    "    V = {}  # State-value function\n",
    "    returns = {}  # Stores returns for each state\n",
    "    \n",
    "    for _ in range(num_episodes):\n",
    "        episode = generate_episode(env, policy)\n",
    "        G = 0\n",
    "        visited_states = set()\n",
    "        \n",
    "        for t in range(len(episode) - 1, -1, -1):  # Reverse traversal\n",
    "            state, action, reward = episode[t]\n",
    "            G = gamma * G + reward\n",
    "            if state not in visited_states:  # First-visit MC\n",
    "                visited_states.add(state)\n",
    "                if state not in returns:\n",
    "                    returns[state] = []\n",
    "                returns[state].append(G)\n",
    "                V[state] = np.mean(returns[state])\n",
    "    \n",
    "    return V\n",
    "\n",
    "def sample_policy(state):\n",
    "    \"\"\"A simple policy: Hit if player's sum < 20, else Stick.\"\"\"\n",
    "    player_sum, _, _ = state\n",
    "    return 0 if player_sum >= 20 else 1\n",
    "\n",
    "if __name__ == \"__main__\":\n",
    "    env = gym.make(\"Blackjack-v1\", natural=False, sab=False)\n",
    "    num_episodes = 50000\n",
    "    V = monte_carlo_prediction(env, sample_policy, num_episodes)\n",
    "    \n",
    "    # Display estimated values for states with player_sum 12-21\n",
    "    for player_sum in range(12, 22):\n",
    "        state = (player_sum, 2, False)  # Dealer's showing card = 2, No usable Ace\n",
    "        print(f\"Value of state {state}: {V.get(state, 0):.2f}\")\n"
   ]
  },
  {
   "cell_type": "code",
   "execution_count": null,
   "id": "f24562ef-613c-4ba6-844f-225b63d1967b",
   "metadata": {},
   "outputs": [],
   "source": []
  }
 ],
 "metadata": {
  "kernelspec": {
   "display_name": "Python 3 (ipykernel)",
   "language": "python",
   "name": "python3"
  },
  "language_info": {
   "codemirror_mode": {
    "name": "ipython",
    "version": 3
   },
   "file_extension": ".py",
   "mimetype": "text/x-python",
   "name": "python",
   "nbconvert_exporter": "python",
   "pygments_lexer": "ipython3",
   "version": "3.12.4"
  }
 },
 "nbformat": 4,
 "nbformat_minor": 5
}
